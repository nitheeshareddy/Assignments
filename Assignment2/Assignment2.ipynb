{
 "cells": [
  {
   "cell_type": "markdown",
   "metadata": {},
   "source": [
    "# Task 1"
   ]
  },
  {
   "cell_type": "markdown",
   "metadata": {},
   "source": [
    "### Question 1:"
   ]
  },
  {
   "cell_type": "markdown",
   "metadata": {},
   "source": [
    "#### 1.1 : Write a Python Program to implement your own myreduce() function which works exactly like Python's built-in function reduce()"
   ]
  },
  {
   "cell_type": "code",
   "execution_count": 1,
   "metadata": {},
   "outputs": [
    {
     "name": "stdout",
     "output_type": "stream",
     "text": [
      "Product of the numbers is: 105\n"
     ]
    }
   ],
   "source": [
    "def myreduce():\n",
    "    \n",
    "    l = [1,3,5,7]\n",
    "    p=1\n",
    "    for i in l:\n",
    "         p *= i\n",
    "    return p\n",
    "\n",
    "print(\"Product of the numbers is:\", myreduce())"
   ]
  },
  {
   "cell_type": "markdown",
   "metadata": {},
   "source": [
    "#### 1.2 Write a Python program to implement your own myfilter() function which works exactly like Python's built-in function filter()"
   ]
  },
  {
   "cell_type": "code",
   "execution_count": 2,
   "metadata": {},
   "outputs": [
    {
     "name": "stdout",
     "output_type": "stream",
     "text": [
      "Even numbers are: [0, 2, 4, 6, 8, 10, 12, 14, 16, 18]\n"
     ]
    }
   ],
   "source": [
    "def myfilter(fn, sequence):\n",
    "   \n",
    "    l = []\n",
    "\n",
    "    for i in sequence:\n",
    "        if fn(i):\n",
    "            l.append(i)\n",
    "\n",
    "    return l\n",
    "\n",
    "\n",
    "def check_even(n):\n",
    "    if n % 2 == 0:\n",
    "        return True\n",
    "    else:\n",
    "        return False\n",
    "\n",
    "\n",
    "numbers = range(20)\n",
    "x = myfilter(check_even, numbers)\n",
    "print(\"Even numbers are:\", str(x))   "
   ]
  },
  {
   "cell_type": "markdown",
   "metadata": {},
   "source": [
    "### Question 2:\n"
   ]
  },
  {
   "cell_type": "markdown",
   "metadata": {},
   "source": [
    "#### 2.1 Implement List comprehensions to produce the following lists.\n",
    "\n",
    "['A', 'C', 'A', 'D', 'G', 'I', ’L’, ‘ D’]\n",
    "\n",
    "['x', 'xx', 'xxx', 'xxxx', 'y', 'yy', 'yyy', 'yyyy', 'z', 'zz', 'zzz', 'zzzz']\n",
    "\n",
    "['x', 'y', 'z', 'xx', 'yy', 'zz', 'xx', 'yy', 'zz', 'xxxx', 'yyyy', 'zzzz']\n",
    "\n",
    "[[2], [3], [4], [3], [4], [5], [4], [5], [6]]\n",
    "\n",
    "[[2, 3, 4, 5], [3, 4, 5, 6], [4, 5, 6, 7], [5, 6, 7, 8]]\n",
    "\n",
    "[(1, 1), (2, 1), (3, 1), (1, 2), (2, 2), (3, 2), (1, 3), (2, 3), (3, 3)]"
   ]
  },
  {
   "cell_type": "code",
   "execution_count": 3,
   "metadata": {},
   "outputs": [
    {
     "name": "stdout",
     "output_type": "stream",
     "text": [
      "['A', 'C', 'A', 'D', 'G', 'I', 'L', 'D']\n",
      "['x', 'xx', 'xxx', 'xxxx', 'y', 'yy', 'yyy', 'yyyy', 'z', 'zz', 'zzz', 'zzzz']\n",
      "['x', 'y', 'z', 'xx', 'yy', 'zz', 'xxx', 'yyy', 'zzz', 'xxxx', 'yyyy', 'zzzz']\n",
      "[[2], [3], [4], [3], [4], [5], [4], [5], [6]]\n",
      "[[2, 3, 4, 5], [3, 4, 5, 6], [4, 5, 6, 7], [5, 6, 7, 8]]\n",
      "[(1, 1), (2, 1), (3, 1), (1, 2), (2, 2), (3, 2), (1, 3), (2, 3), (3, 3)]\n"
     ]
    }
   ],
   "source": [
    "a = [i for i in \"ACADGILD\"]\n",
    "print(a)\n",
    "\n",
    "a1 = [i*number for i in [\"x\",\"y\",\"z\"] for number in range(1, 5)]\n",
    "print(a1)\n",
    "\n",
    "a2 = [i*number for number in range(1, 5) for i in [\"x\",\"y\",\"z\"]]\n",
    "print(a2)\n",
    "\n",
    "\n",
    "a3 = [[i+j] for i in [2,3,4] for j in range(3)]\n",
    "print(a3)\n",
    "\n",
    "a4 = [[i+j for i in [2,3,4,5]] for j in range(4)]\n",
    "print(a4)\n",
    "\n",
    "a5 = [(j,i) for i in [1,2,3] for j in [1,2,3]]\n",
    "print(a5)"
   ]
  },
  {
   "cell_type": "markdown",
   "metadata": {},
   "source": [
    "### Question 3:\n",
    "\n",
    "#### Implement a function longestWord() that takes a list of words and returns the longest one."
   ]
  },
  {
   "cell_type": "code",
   "execution_count": 4,
   "metadata": {},
   "outputs": [],
   "source": [
    "def longestWord():\n",
    "    \n",
    "    l = []\n",
    "    n = int(input(\"Enter number of words you want to enter:\"))\n",
    "    for i in range(n):\n",
    "        x = input(\"Enter the words one by one:\")\n",
    "        l.append(x)\n",
    "    \n",
    "    result = sorted(l, key=len)\n",
    "\n",
    "    return result[-1]"
   ]
  },
  {
   "cell_type": "code",
   "execution_count": 5,
   "metadata": {},
   "outputs": [
    {
     "name": "stdout",
     "output_type": "stream",
     "text": [
      "Enter number of words you want to enter:3\n",
      "Enter the words one by one:nithi\n",
      "Enter the words one by one:nitheesha\n",
      "Enter the words one by one:anthonymary\n"
     ]
    },
    {
     "data": {
      "text/plain": [
       "'anthonymary'"
      ]
     },
     "execution_count": 5,
     "metadata": {},
     "output_type": "execute_result"
    }
   ],
   "source": [
    "longestWord()"
   ]
  },
  {
   "cell_type": "markdown",
   "metadata": {},
   "source": [
    "# Task 2"
   ]
  },
  {
   "cell_type": "markdown",
   "metadata": {},
   "source": [
    "### Question 1\n",
    "\n",
    "#### 1.1 Write a Python Program(with class concepts) to find the area of the triangle using the below formula.\n",
    "#### area = (s*(s-a)*(s-b)*(s-c)) ** 0.5\n",
    "\n",
    "#### Function to take the length of the sides of triangle from user should be defined in the parent class and function to calculate the area should be defined in subclass."
   ]
  },
  {
   "cell_type": "code",
   "execution_count": 6,
   "metadata": {},
   "outputs": [
    {
     "name": "stdout",
     "output_type": "stream",
     "text": [
      "10\n",
      "10\n",
      "10\n",
      "43.30127018922193\n"
     ]
    }
   ],
   "source": [
    "class sidesOfTriangle:\n",
    "    \n",
    "    def __init__(self, a=2 , b = 3 , c = 4):\n",
    "        \n",
    "        self.a = a\n",
    "        self.b = b\n",
    "        self.c = c\n",
    "\n",
    "class areaOfTriangle(sidesOfTriangle):\n",
    "    \n",
    "    def area(self):\n",
    "        \n",
    "        s = (self.a + self.b + self.c)/ 2\n",
    "        return (s * (s - self.a)*(s - self.b)*(s - self.c)) ** 0.5\n",
    "    \n",
    "a ,b, c = int(input()),int(input()),int(input())\n",
    "\n",
    "areaOfTriangle = areaOfTriangle(a,b,c)\n",
    "result = areaOfTriangle.area()\n",
    "\n",
    "print(result)"
   ]
  },
  {
   "cell_type": "markdown",
   "metadata": {},
   "source": [
    "#### 1.2 Write a function filter_long_words() that takes a list of words and an integer n and returns the list of words that are longer than n."
   ]
  },
  {
   "cell_type": "code",
   "execution_count": 7,
   "metadata": {},
   "outputs": [
    {
     "name": "stdout",
     "output_type": "stream",
     "text": [
      "['Nitheesha', 'Anthony', 'Sravani']\n"
     ]
    }
   ],
   "source": [
    "def filter_long_words(l, n):\n",
    "    \n",
    "    ls = []\n",
    "    for i in l:\n",
    "        if len(i) > n:\n",
    "            ls.append(i)\n",
    "    return ls\n",
    "\n",
    "\n",
    "l = [\"Nitheesha\", \"Niti\", \"Anthony\", \"TD\", \"Royal\", \"Sravani\"]\n",
    "result = filter_long_words(l, 5)\n",
    "print(result)\n"
   ]
  },
  {
   "cell_type": "markdown",
   "metadata": {},
   "source": [
    "### Question 2"
   ]
  },
  {
   "cell_type": "markdown",
   "metadata": {},
   "source": [
    "#### 2.1 Write a Python program using function concept that maps list of words into a list of integers representing the lengths of the corresponding words .\n",
    "\n",
    "#### Hint: If a list [ ab,cde,erty] is passed on to the python function output should come as [2,3,4]. Here 2,3 and 4 are the lengths of the words in the list."
   ]
  },
  {
   "cell_type": "code",
   "execution_count": 8,
   "metadata": {},
   "outputs": [
    {
     "name": "stdout",
     "output_type": "stream",
     "text": [
      "[5, 8, 3, 5]\n"
     ]
    }
   ],
   "source": [
    "def map_len_words(iterable):\n",
    "    return list(map(len, iterable))\n",
    "\n",
    "\n",
    "ints = [\"hello\", \"everyone\", \"Ron\", \"Harry\"]\n",
    "result = map_len_words(ints)\n",
    "print(result)"
   ]
  },
  {
   "cell_type": "markdown",
   "metadata": {},
   "source": [
    "#### 2.2 Write a Python function which takes a character (i.e. a string of length 1) and returns True if it is a vowel, False otherwise."
   ]
  },
  {
   "cell_type": "code",
   "execution_count": 9,
   "metadata": {},
   "outputs": [
    {
     "name": "stdout",
     "output_type": "stream",
     "text": [
      "True\n",
      "False\n"
     ]
    }
   ],
   "source": [
    "def vowel(a):\n",
    "    \n",
    "    v = ['a','e','i','o','u']\n",
    "    \n",
    "    for i in v:\n",
    "        if i == a:\n",
    "            return True\n",
    "        else:\n",
    "            return False\n",
    "        \n",
    "x = vowel('a')\n",
    "y = vowel('z')\n",
    "print(x)\n",
    "print(y)"
   ]
  },
  {
   "cell_type": "code",
   "execution_count": null,
   "metadata": {},
   "outputs": [],
   "source": []
  }
 ],
 "metadata": {
  "kernelspec": {
   "display_name": "Python 3",
   "language": "python",
   "name": "python3"
  },
  "language_info": {
   "codemirror_mode": {
    "name": "ipython",
    "version": 3
   },
   "file_extension": ".py",
   "mimetype": "text/x-python",
   "name": "python",
   "nbconvert_exporter": "python",
   "pygments_lexer": "ipython3",
   "version": "3.7.6"
  }
 },
 "nbformat": 4,
 "nbformat_minor": 4
}
